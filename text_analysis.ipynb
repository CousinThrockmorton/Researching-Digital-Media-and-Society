{
 "cells": [
  {
   "cell_type": "markdown",
   "id": "d818c489-4f75-435b-b999-ceee82f0358f",
   "metadata": {},
   "source": [
    "# Text analysis\n",
    "\n",
    "This notebook is the companion for the text analysis chapter (7) of the coursebook *Researching Digital Media and Society* (Lindgren & Eriksson Krutrök, SAGE, 2024).\n",
    "\n",
    "In this notebook you will find step by step analysis of the Trump Twitter Archive using some of the methods in the chapter."
   ]
  },
  {
   "cell_type": "markdown",
   "id": "4d071868-0a6d-46f8-8c6c-b213c259b693",
   "metadata": {},
   "source": [
    "Before any analysis, the libraries used in the notebook need to be installed."
   ]
  },
  {
   "cell_type": "code",
   "execution_count": 1,
   "id": "235fb3e6-6393-4441-8b72-9a2419671412",
   "metadata": {},
   "outputs": [
    {
     "name": "stdout",
     "output_type": "stream",
     "text": [
      "Defaulting to user installation because normal site-packages is not writeable\n",
      "Requirement already satisfied: pandas in ./.local/lib/python3.12/site-packages (2.2.3)\n",
      "Requirement already satisfied: matplotlib in ./.local/lib/python3.12/site-packages (3.10.0)\n",
      "Requirement already satisfied: spacy in ./.local/lib/python3.12/site-packages (3.8.4)\n",
      "Requirement already satisfied: gensim in ./.local/lib/python3.12/site-packages (4.3.3)\n",
      "Requirement already satisfied: pyLDAvis in ./.local/lib/python3.12/site-packages (3.4.1)\n",
      "Requirement already satisfied: vaderSentiment in ./.local/lib/python3.12/site-packages (3.3.2)\n",
      "Requirement already satisfied: numpy>=1.26.0 in ./.local/lib/python3.12/site-packages (from pandas) (1.26.4)\n",
      "Requirement already satisfied: python-dateutil>=2.8.2 in /opt/tljh/user/lib/python3.12/site-packages (from pandas) (2.9.0.post0)\n",
      "Requirement already satisfied: pytz>=2020.1 in ./.local/lib/python3.12/site-packages (from pandas) (2025.1)\n",
      "Requirement already satisfied: tzdata>=2022.7 in ./.local/lib/python3.12/site-packages (from pandas) (2025.1)\n",
      "Requirement already satisfied: contourpy>=1.0.1 in ./.local/lib/python3.12/site-packages (from matplotlib) (1.3.1)\n",
      "Requirement already satisfied: cycler>=0.10 in ./.local/lib/python3.12/site-packages (from matplotlib) (0.12.1)\n",
      "Requirement already satisfied: fonttools>=4.22.0 in ./.local/lib/python3.12/site-packages (from matplotlib) (4.55.8)\n",
      "Requirement already satisfied: kiwisolver>=1.3.1 in ./.local/lib/python3.12/site-packages (from matplotlib) (1.4.8)\n",
      "Requirement already satisfied: packaging>=20.0 in /opt/tljh/user/lib/python3.12/site-packages (from matplotlib) (24.1)\n",
      "Requirement already satisfied: pillow>=8 in ./.local/lib/python3.12/site-packages (from matplotlib) (11.1.0)\n",
      "Requirement already satisfied: pyparsing>=2.3.1 in ./.local/lib/python3.12/site-packages (from matplotlib) (3.2.1)\n",
      "Requirement already satisfied: spacy-legacy<3.1.0,>=3.0.11 in ./.local/lib/python3.12/site-packages (from spacy) (3.0.12)\n",
      "Requirement already satisfied: spacy-loggers<2.0.0,>=1.0.0 in ./.local/lib/python3.12/site-packages (from spacy) (1.0.5)\n",
      "Requirement already satisfied: murmurhash<1.1.0,>=0.28.0 in ./.local/lib/python3.12/site-packages (from spacy) (1.0.12)\n",
      "Requirement already satisfied: cymem<2.1.0,>=2.0.2 in ./.local/lib/python3.12/site-packages (from spacy) (2.0.11)\n",
      "Requirement already satisfied: preshed<3.1.0,>=3.0.2 in ./.local/lib/python3.12/site-packages (from spacy) (3.0.9)\n",
      "Requirement already satisfied: thinc<8.4.0,>=8.3.4 in ./.local/lib/python3.12/site-packages (from spacy) (8.3.4)\n",
      "Requirement already satisfied: wasabi<1.2.0,>=0.9.1 in ./.local/lib/python3.12/site-packages (from spacy) (1.1.3)\n",
      "Requirement already satisfied: srsly<3.0.0,>=2.4.3 in ./.local/lib/python3.12/site-packages (from spacy) (2.5.1)\n",
      "Requirement already satisfied: catalogue<2.1.0,>=2.0.6 in ./.local/lib/python3.12/site-packages (from spacy) (2.0.10)\n",
      "Requirement already satisfied: weasel<0.5.0,>=0.1.0 in ./.local/lib/python3.12/site-packages (from spacy) (0.4.1)\n",
      "Requirement already satisfied: typer<1.0.0,>=0.3.0 in ./.local/lib/python3.12/site-packages (from spacy) (0.15.2)\n",
      "Requirement already satisfied: tqdm<5.0.0,>=4.38.0 in /opt/tljh/user/lib/python3.12/site-packages (from spacy) (4.66.5)\n",
      "Requirement already satisfied: requests<3.0.0,>=2.13.0 in /opt/tljh/user/lib/python3.12/site-packages (from spacy) (2.32.3)\n",
      "Requirement already satisfied: pydantic!=1.8,!=1.8.1,<3.0.0,>=1.7.4 in /opt/tljh/user/lib/python3.12/site-packages (from spacy) (2.10.6)\n",
      "Requirement already satisfied: jinja2 in /opt/tljh/user/lib/python3.12/site-packages (from spacy) (3.1.5)\n",
      "Requirement already satisfied: setuptools in /opt/tljh/user/lib/python3.12/site-packages (from spacy) (74.1.2)\n",
      "Requirement already satisfied: langcodes<4.0.0,>=3.2.0 in ./.local/lib/python3.12/site-packages (from spacy) (3.5.0)\n",
      "Requirement already satisfied: scipy<1.14.0,>=1.7.0 in ./.local/lib/python3.12/site-packages (from gensim) (1.13.1)\n",
      "Requirement already satisfied: smart-open>=1.8.1 in ./.local/lib/python3.12/site-packages (from gensim) (7.1.0)\n",
      "Requirement already satisfied: joblib>=1.2.0 in ./.local/lib/python3.12/site-packages (from pyLDAvis) (1.4.2)\n",
      "Requirement already satisfied: numexpr in ./.local/lib/python3.12/site-packages (from pyLDAvis) (2.10.2)\n",
      "Requirement already satisfied: funcy in ./.local/lib/python3.12/site-packages (from pyLDAvis) (2.0)\n",
      "Requirement already satisfied: scikit-learn>=1.0.0 in ./.local/lib/python3.12/site-packages (from pyLDAvis) (1.6.1)\n",
      "Requirement already satisfied: language-data>=1.2 in ./.local/lib/python3.12/site-packages (from langcodes<4.0.0,>=3.2.0->spacy) (1.3.0)\n",
      "Requirement already satisfied: annotated-types>=0.6.0 in /opt/tljh/user/lib/python3.12/site-packages (from pydantic!=1.8,!=1.8.1,<3.0.0,>=1.7.4->spacy) (0.7.0)\n",
      "Requirement already satisfied: pydantic-core==2.27.2 in /opt/tljh/user/lib/python3.12/site-packages (from pydantic!=1.8,!=1.8.1,<3.0.0,>=1.7.4->spacy) (2.27.2)\n",
      "Requirement already satisfied: typing-extensions>=4.12.2 in /opt/tljh/user/lib/python3.12/site-packages (from pydantic!=1.8,!=1.8.1,<3.0.0,>=1.7.4->spacy) (4.12.2)\n",
      "Requirement already satisfied: six>=1.5 in /opt/tljh/user/lib/python3.12/site-packages (from python-dateutil>=2.8.2->pandas) (1.17.0)\n",
      "Requirement already satisfied: charset-normalizer<4,>=2 in /opt/tljh/user/lib/python3.12/site-packages (from requests<3.0.0,>=2.13.0->spacy) (3.3.2)\n",
      "Requirement already satisfied: idna<4,>=2.5 in /opt/tljh/user/lib/python3.12/site-packages (from requests<3.0.0,>=2.13.0->spacy) (3.10)\n",
      "Requirement already satisfied: urllib3<3,>=1.21.1 in /opt/tljh/user/lib/python3.12/site-packages (from requests<3.0.0,>=2.13.0->spacy) (2.2.3)\n",
      "Requirement already satisfied: certifi>=2017.4.17 in /opt/tljh/user/lib/python3.12/site-packages (from requests<3.0.0,>=2.13.0->spacy) (2024.8.30)\n",
      "Requirement already satisfied: threadpoolctl>=3.1.0 in ./.local/lib/python3.12/site-packages (from scikit-learn>=1.0.0->pyLDAvis) (3.5.0)\n",
      "Requirement already satisfied: wrapt in ./.local/lib/python3.12/site-packages (from smart-open>=1.8.1->gensim) (1.17.2)\n",
      "Requirement already satisfied: blis<1.3.0,>=1.2.0 in ./.local/lib/python3.12/site-packages (from thinc<8.4.0,>=8.3.4->spacy) (1.2.0)\n",
      "Requirement already satisfied: confection<1.0.0,>=0.0.1 in ./.local/lib/python3.12/site-packages (from thinc<8.4.0,>=8.3.4->spacy) (0.1.5)\n",
      "Requirement already satisfied: click>=8.0.0 in ./.local/lib/python3.12/site-packages (from typer<1.0.0,>=0.3.0->spacy) (8.1.8)\n",
      "Requirement already satisfied: shellingham>=1.3.0 in ./.local/lib/python3.12/site-packages (from typer<1.0.0,>=0.3.0->spacy) (1.5.4)\n",
      "Requirement already satisfied: rich>=10.11.0 in ./.local/lib/python3.12/site-packages (from typer<1.0.0,>=0.3.0->spacy) (13.9.4)\n",
      "Requirement already satisfied: cloudpathlib<1.0.0,>=0.7.0 in ./.local/lib/python3.12/site-packages (from weasel<0.5.0,>=0.1.0->spacy) (0.21.0)\n",
      "Requirement already satisfied: MarkupSafe>=2.0 in /opt/tljh/user/lib/python3.12/site-packages (from jinja2->spacy) (3.0.2)\n",
      "Requirement already satisfied: marisa-trie>=1.1.0 in ./.local/lib/python3.12/site-packages (from language-data>=1.2->langcodes<4.0.0,>=3.2.0->spacy) (1.2.1)\n",
      "Requirement already satisfied: markdown-it-py>=2.2.0 in ./.local/lib/python3.12/site-packages (from rich>=10.11.0->typer<1.0.0,>=0.3.0->spacy) (3.0.0)\n",
      "Requirement already satisfied: pygments<3.0.0,>=2.13.0 in /opt/tljh/user/lib/python3.12/site-packages (from rich>=10.11.0->typer<1.0.0,>=0.3.0->spacy) (2.19.1)\n",
      "Requirement already satisfied: mdurl~=0.1 in ./.local/lib/python3.12/site-packages (from markdown-it-py>=2.2.0->rich>=10.11.0->typer<1.0.0,>=0.3.0->spacy) (0.1.2)\n",
      "Note: you may need to restart the kernel to use updated packages.\n"
     ]
    }
   ],
   "source": [
    "%pip install pandas matplotlib spacy gensim pyLDAvis vaderSentiment #kagglehub "
   ]
  },
  {
   "cell_type": "markdown",
   "id": "bf94fb11-5ae5-47e3-aee4-806ccfdfe4dd",
   "metadata": {},
   "source": [
    "## Loading libraries and Data"
   ]
  },
  {
   "cell_type": "markdown",
   "id": "b0dc7b0c-1e43-4ac4-ba41-8606d7024248",
   "metadata": {},
   "source": [
    "### Loading the libraries used in the analysis\n",
    "- Take note to run %pip install above before importing the libraries: first we install the libraries, then import them.\n",
    "- Some libraries are part of Python standard library, so they can be imported without installing them first."
   ]
  },
  {
   "cell_type": "code",
   "execution_count": 2,
   "id": "2620f062-7219-4549-a1c1-3d1b815e8e8c",
   "metadata": {},
   "outputs": [],
   "source": [
    "# import kagglehub # used to pull the data\n",
    "import pandas as pd # for managing the dataset\n",
    "import os # accessing and managing file systems \n",
    "import matplotlib.pyplot as plt # creating plots \n",
    "import spacy\n",
    "import re # for regular expression ie. the standard way computers deal with written text\n",
    "from collections import Counter # different container for managing text \n",
    "import gensim # for topic modelling\n",
    "from gensim import corpora # for the bag of wrods managing the corpora\n",
    "import math # self explanatory, the inbuilt math functions\n",
    "import pyLDAvis.gensim_models as gensimvis # for LDA\n",
    "import pyLDAvis # visualisation of the LDA\n",
    "from vaderSentiment.vaderSentiment import SentimentIntensityAnalyzer # Sentiment analysis "
   ]
  },
  {
   "cell_type": "markdown",
   "id": "85ec517c-a507-4fc0-800b-aded7cc760b0",
   "metadata": {},
   "source": [
    "### Loading the dataset via the file system or kaggle API"
   ]
  },
  {
   "cell_type": "markdown",
   "id": "3c629395-bd86-40aa-ab58-34f0919eb5f7",
   "metadata": {},
   "source": [
    "The dataset should be in your home directory, in a file named \"tweets.csv\". The code below also demonstrates how to pull the data using the kaggle API, an automated way to access datasets for computational analysis from Python. The kaggle API code is commented out, but you can try it after completing the notebook."
   ]
  },
  {
   "cell_type": "code",
   "execution_count": 3,
   "id": "9ad9b309-3326-4861-9371-e7b23e750857",
   "metadata": {
    "scrolled": true
   },
   "outputs": [],
   "source": [
    "# path = kagglehub.dataset_download(\"headsortails/trump-twitter-archive\") # use the kaggle syntax to pull the data\n",
    "# Alternatively you can download the file from https://www.kaggle.com/datasets/headsortails/trump-twitter-archive\n",
    "# Unzip the file and put it somewhere sensible like the project directory \n",
    "# uncomment this line and fill in your file location file_path = '/location/your_unzipped_dataset'\n",
    "\n",
    "# print(\"Path to dataset files:\", path) # find where kagglehub put the dataset\n",
    "\n",
    "# file_path = os.path.join(path, \"trump_tweets.csv\") # specific the complete path to the dataset\n",
    "\n",
    "# df = pd.read_csv(file_path) # use the pandas library to open the file as a dataframe\n",
    "df = pd.read_csv(\"tweets.csv\")\n",
    "# use the pandas library to open the file as a dataframe\n",
    "# the index is random, to add some information and make further analysis easier we can set the datetime as the index\n",
    "df['datetime'] = pd.to_datetime(df['date']) #recode datetime as a datetime variable type instead of text\n",
    "df.set_index('datetime', inplace=True) # set the index to the datetime variable "
   ]
  },
  {
   "cell_type": "markdown",
   "id": "1f072b58-df1b-4bed-b0c8-7b3d2f6d30f3",
   "metadata": {},
   "source": [
    "## Initial exploration and Data cleaning"
   ]
  },
  {
   "cell_type": "markdown",
   "id": "9af9e702-c9dd-4e98-90d1-808fe3d7d13c",
   "metadata": {},
   "source": [
    "### Taking a first looks, exploratory analysis of the data"
   ]
  },
  {
   "cell_type": "code",
   "execution_count": 4,
   "id": "9626433a-14d8-45c2-b522-8b1aaa78741e",
   "metadata": {
    "scrolled": true
   },
   "outputs": [
    {
     "name": "stdout",
     "output_type": "stream",
     "text": [
      "The dataset contains 56571 tweets form Trump\n",
      "Each tweet has a variety of attributes, specifically ['id', 'text', 'isRetweet', 'isDeleted', 'device', 'favorites', 'retweets', 'date', 'isFlagged']\n",
      "isRetweet\n",
      "f    46694\n",
      "t     9877\n",
      "Name: count, dtype: int64\n"
     ]
    },
    {
     "data": {
      "text/html": [
       "<div>\n",
       "<style scoped>\n",
       "    .dataframe tbody tr th:only-of-type {\n",
       "        vertical-align: middle;\n",
       "    }\n",
       "\n",
       "    .dataframe tbody tr th {\n",
       "        vertical-align: top;\n",
       "    }\n",
       "\n",
       "    .dataframe thead th {\n",
       "        text-align: right;\n",
       "    }\n",
       "</style>\n",
       "<table border=\"1\" class=\"dataframe\">\n",
       "  <thead>\n",
       "    <tr style=\"text-align: right;\">\n",
       "      <th></th>\n",
       "      <th>id</th>\n",
       "      <th>text</th>\n",
       "      <th>isRetweet</th>\n",
       "      <th>isDeleted</th>\n",
       "      <th>device</th>\n",
       "      <th>favorites</th>\n",
       "      <th>retweets</th>\n",
       "      <th>date</th>\n",
       "      <th>isFlagged</th>\n",
       "    </tr>\n",
       "    <tr>\n",
       "      <th>datetime</th>\n",
       "      <th></th>\n",
       "      <th></th>\n",
       "      <th></th>\n",
       "      <th></th>\n",
       "      <th></th>\n",
       "      <th></th>\n",
       "      <th></th>\n",
       "      <th></th>\n",
       "      <th></th>\n",
       "    </tr>\n",
       "  </thead>\n",
       "  <tbody>\n",
       "    <tr>\n",
       "      <th>2011-08-02 18:07:48</th>\n",
       "      <td>98454970654916608</td>\n",
       "      <td>Republicans and Democrats have both created ou...</td>\n",
       "      <td>f</td>\n",
       "      <td>f</td>\n",
       "      <td>TweetDeck</td>\n",
       "      <td>49</td>\n",
       "      <td>255</td>\n",
       "      <td>2011-08-02 18:07:48</td>\n",
       "      <td>f</td>\n",
       "    </tr>\n",
       "    <tr>\n",
       "      <th>2020-03-03 01:34:50</th>\n",
       "      <td>1234653427789070336</td>\n",
       "      <td>I was thrilled to be back in the Great city of...</td>\n",
       "      <td>f</td>\n",
       "      <td>f</td>\n",
       "      <td>Twitter for iPhone</td>\n",
       "      <td>73748</td>\n",
       "      <td>17404</td>\n",
       "      <td>2020-03-03 01:34:50</td>\n",
       "      <td>f</td>\n",
       "    </tr>\n",
       "    <tr>\n",
       "      <th>2020-01-17 03:22:47</th>\n",
       "      <td>1218010753434820614</td>\n",
       "      <td>RT @CBS_Herridge: READ: Letter to surveillance...</td>\n",
       "      <td>t</td>\n",
       "      <td>f</td>\n",
       "      <td>Twitter for iPhone</td>\n",
       "      <td>0</td>\n",
       "      <td>7396</td>\n",
       "      <td>2020-01-17 03:22:47</td>\n",
       "      <td>f</td>\n",
       "    </tr>\n",
       "    <tr>\n",
       "      <th>2020-09-12 20:10:58</th>\n",
       "      <td>1304875170860015617</td>\n",
       "      <td>The Unsolicited Mail In Ballot Scam is a major...</td>\n",
       "      <td>f</td>\n",
       "      <td>f</td>\n",
       "      <td>Twitter for iPhone</td>\n",
       "      <td>80527</td>\n",
       "      <td>23502</td>\n",
       "      <td>2020-09-12 20:10:58</td>\n",
       "      <td>f</td>\n",
       "    </tr>\n",
       "    <tr>\n",
       "      <th>2020-01-17 13:13:59</th>\n",
       "      <td>1218159531554897920</td>\n",
       "      <td>RT @MZHemingway: Very friendly telling of even...</td>\n",
       "      <td>t</td>\n",
       "      <td>f</td>\n",
       "      <td>Twitter for iPhone</td>\n",
       "      <td>0</td>\n",
       "      <td>9081</td>\n",
       "      <td>2020-01-17 13:13:59</td>\n",
       "      <td>f</td>\n",
       "    </tr>\n",
       "  </tbody>\n",
       "</table>\n",
       "</div>"
      ],
      "text/plain": [
       "                                      id  \\\n",
       "datetime                                   \n",
       "2011-08-02 18:07:48    98454970654916608   \n",
       "2020-03-03 01:34:50  1234653427789070336   \n",
       "2020-01-17 03:22:47  1218010753434820614   \n",
       "2020-09-12 20:10:58  1304875170860015617   \n",
       "2020-01-17 13:13:59  1218159531554897920   \n",
       "\n",
       "                                                                  text  \\\n",
       "datetime                                                                 \n",
       "2011-08-02 18:07:48  Republicans and Democrats have both created ou...   \n",
       "2020-03-03 01:34:50  I was thrilled to be back in the Great city of...   \n",
       "2020-01-17 03:22:47  RT @CBS_Herridge: READ: Letter to surveillance...   \n",
       "2020-09-12 20:10:58  The Unsolicited Mail In Ballot Scam is a major...   \n",
       "2020-01-17 13:13:59  RT @MZHemingway: Very friendly telling of even...   \n",
       "\n",
       "                    isRetweet isDeleted              device  favorites  \\\n",
       "datetime                                                                 \n",
       "2011-08-02 18:07:48         f         f           TweetDeck         49   \n",
       "2020-03-03 01:34:50         f         f  Twitter for iPhone      73748   \n",
       "2020-01-17 03:22:47         t         f  Twitter for iPhone          0   \n",
       "2020-09-12 20:10:58         f         f  Twitter for iPhone      80527   \n",
       "2020-01-17 13:13:59         t         f  Twitter for iPhone          0   \n",
       "\n",
       "                     retweets                 date isFlagged  \n",
       "datetime                                                      \n",
       "2011-08-02 18:07:48       255  2011-08-02 18:07:48         f  \n",
       "2020-03-03 01:34:50     17404  2020-03-03 01:34:50         f  \n",
       "2020-01-17 03:22:47      7396  2020-01-17 03:22:47         f  \n",
       "2020-09-12 20:10:58     23502  2020-09-12 20:10:58         f  \n",
       "2020-01-17 13:13:59      9081  2020-01-17 13:13:59         f  "
      ]
     },
     "execution_count": 4,
     "metadata": {},
     "output_type": "execute_result"
    }
   ],
   "source": [
    "print(f\"The dataset contains {df.shape[0]} tweets form Trump\")\n",
    "print(f\"Each tweet has a variety of attributes, specifically {list(df.columns)}\")\n",
    "\n",
    "df[['favorites','retweets']].describe() # descriptive statistics for the numeric variables\n",
    "retweet_counts = df['isRetweet'].value_counts() #descriptive statistics for binary/categorical variables\n",
    "print(retweet_counts)\n",
    "df[['isFlagged','isDeleted']].value_counts() # descriptives for the categoricals with cross categories\n",
    "\n",
    "df.head(5) # take a look at the data"
   ]
  },
  {
   "cell_type": "markdown",
   "id": "eafad671-680a-4766-a466-e583e251df30",
   "metadata": {},
   "source": [
    "## Analysis"
   ]
  },
  {
   "cell_type": "markdown",
   "id": "46d61a88-dfa6-494b-8318-5e5d693fbe70",
   "metadata": {},
   "source": [
    "### Content Analysis\n",
    "We take a look at the occurance of fake news, you can change the key to anything else "
   ]
  },
  {
   "cell_type": "markdown",
   "id": "b6a4cb7e-cd15-4749-af68-c6340ef08dc4",
   "metadata": {},
   "source": [
    "First off we can create some simple analysis just using some basic regular expression. Regular expression is a powerful tool in text analysis for extracting specific patterns from text data "
   ]
  },
  {
   "cell_type": "code",
   "execution_count": null,
   "id": "3c3b5dd5-aefb-4c80-9c4e-7f32d35dc1db",
   "metadata": {},
   "outputs": [],
   "source": [
    "# create new variables counting the occurance of a specific phrase within a document(in this case document = one tweet)\n",
    "df['fake_news_count'] = df[\"text\"].str.lower().str.count(r\"fake news\") # r prefix lets python know to treat input as string litteral ie. keep the backslashes instead of escaping the next character\n",
    "df['fake_count'] = df[\"text\"].str.lower().str.count(r\"fake\") # you can look for different strings or substrings because maybe there are some cases you missed\n",
    "df['news_count'] = df[\"text\"].str.lower().str.count(r\"news\")\n",
    "df['mentions'] = df['text'].str.findall(r'@\\w+') # this is a bit more complex regex it looks for all the mentions in the tweets\n",
    "# it looks for substrings starting with the '@' character matching all the [A-Za-z0-9_] characters after is using '\\w' the + means we looks for one or more characters until a non match ie. a white space\n",
    "# regular expression is a powerful method for extracting information one seeks from unstructured text"
   ]
  },
  {
   "cell_type": "code",
   "execution_count": null,
   "id": "a414b39b-ece0-4a47-b19a-7a5f349c0b25",
   "metadata": {
    "scrolled": true
   },
   "outputs": [],
   "source": [
    "# for plotting the extracted info the granularity of the data is not very useful as daily counts are too granular over years of observations\n",
    "monthly_counts = df.resample('ME')[['fake_news_count', 'fake_count', 'news_count']].sum().reset_index() # resampling the data for \n",
    "\n",
    "# Plot the monthly trends for fake_news_count\n",
    "plt.figure(figsize=(12, 6)) # initalise the plot \n",
    "plt.plot(monthly_counts['datetime'], monthly_counts['fake_news_count'], \n",
    "         label=\"Fake News Count\", marker='o', linestyle='-') # add line plots one by one\n",
    "plt.plot(monthly_counts['datetime'], monthly_counts['fake_count'], \n",
    "         label=\"Fake Count\", marker='o', linestyle='-')\n",
    "plt.plot(monthly_counts['datetime'], monthly_counts['news_count'], \n",
    "         label=\"News Count\", marker='o', linestyle='-')\n",
    "\n",
    "# Formatting the plot\n",
    "plt.xlabel(\"Month\")\n",
    "plt.ylabel(\"Count\")\n",
    "plt.title(\"Monthly Occurrences of 'Fake News', 'Fake', and 'News'\")\n",
    "plt.legend()\n",
    "plt.xticks(rotation=45)\n",
    "plt.grid(True)\n",
    "plt.show()"
   ]
  },
  {
   "cell_type": "markdown",
   "id": "140a2586-5176-48a5-a260-b99b764f36dd",
   "metadata": {},
   "source": [
    "### Breaking things down, Tokenisation"
   ]
  },
  {
   "cell_type": "code",
   "execution_count": null,
   "id": "4b227a9c-e463-4f2c-814d-d43e87783a05",
   "metadata": {},
   "outputs": [],
   "source": [
    "# Need to download the model we will use with Spacy\n",
    "spacy.cli.download(\"en_core_web_sm\")"
   ]
  },
  {
   "cell_type": "code",
   "execution_count": null,
   "id": "c7fdac13-f126-4391-8004-bfcf41cc97c1",
   "metadata": {},
   "outputs": [],
   "source": [
    "# for this I will write a small function to tokenise each tweet as well as clean up the text \n",
    "# Load the small English model\n",
    "nlp = spacy.load(\"en_core_web_sm\")\n",
    "\n",
    "\n",
    "def tokenise(text):\n",
    "    # Convert text to lowercase\n",
    "    text = text.lower()\n",
    "    # Remove mentions\n",
    "    text = re.sub(r\"@\\w+\", \"\", text)\n",
    "    # Remove retweet tags\n",
    "    text = re.sub(r'rt', \"\", text)\n",
    "    # Remove URLs\n",
    "    text = re.sub(r\"http\\S+\", \"\", text)\n",
    "    # Remove all punctuation and non-alphabetic characters\n",
    "    text = re.sub(r\"[^a-z\\s]\", \"\", text)\n",
    "    \n",
    "    # Use spaCy to tokenize the cleaned text\n",
    "    doc = nlp(text)\n",
    "\n",
    "    return doc # return the entire resulting dictionary so we can take a look at it and reuse it\n",
    "\n",
    "# Apply the function to your DataFrame column -- Note that this probably takes a long time!\n",
    "df['tokenised_text'] = df['text'].apply(tokenise)\n",
    "\n",
    "print(\"Tokenised texts look like this:\",df['tokenised_text'].iloc[1]) "
   ]
  },
  {
   "cell_type": "code",
   "execution_count": null,
   "id": "2603ad55-c35f-4111-8166-926cfd189b7c",
   "metadata": {},
   "outputs": [],
   "source": [
    "df['tokenised_text'].iloc[1]"
   ]
  },
  {
   "cell_type": "code",
   "execution_count": null,
   "id": "430e67c7-418d-435d-a2cf-3e55cefa1294",
   "metadata": {},
   "outputs": [],
   "source": [
    "# There is no straightforward command for concordance analysis in spacy that works with phrases so we need to write one\n",
    "# Note for tweets it would be easier to simply search for the tweets \n",
    "# df['text'][df['text'].str.contains(\"fake news\", case=False)]\n",
    "def concordance_for_phrase(tokens, phrase=None, window=10):\n",
    "    \n",
    "    contexts = [] # output container\n",
    "    phrase_length = len(phrase) # learn the length of the phrase\n",
    "    for i in range(len(tokens) - phrase_length + 1): # \n",
    "        if tokens[i:i+phrase_length] == phrase:\n",
    "            # Define context boundaries\n",
    "            start = max(0, i - window)\n",
    "            end = min(len(tokens), i + phrase_length + window)\n",
    "            context = tokens[start:end]\n",
    "            contexts.append(\" \".join(context))\n",
    "    return contexts\n",
    "\n",
    "# Then loop through all the tweets \n",
    "all_concordances = []\n",
    "for doc in df['tokenised_text']:\n",
    "    # Convert the Doc to a list of token texts (ignoring whitespace)\n",
    "    tokens_list = [token.text for token in doc if not token.is_space]\n",
    "    contexts = concordance_for_phrase(tokens_list, phrase=[\"fake\", \"news\"])\n",
    "    if contexts:\n",
    "        all_concordances.extend(contexts)\n",
    "\n",
    "# Print the first 10 concordances\n",
    "for context in all_concordances[:10]:\n",
    "    print(\"-\", context)\n"
   ]
  },
  {
   "cell_type": "code",
   "execution_count": null,
   "id": "454fdbcd-f5f4-4a03-a952-d8990337e814",
   "metadata": {},
   "outputs": [],
   "source": [
    "def collocations_for_target(tokens, target, window=3):\n",
    "    collocations = []\n",
    "    for i, token in enumerate(tokens):\n",
    "        if token == target:\n",
    "            # Determine context window (exclude the target token itself)\n",
    "            start = max(0, i - window)\n",
    "            end = min(len(tokens), i + window + 1)\n",
    "            # Exclude the target token\n",
    "            context = tokens[start:i] + tokens[i+1:end]\n",
    "            collocations.extend(context)\n",
    "    return collocations\n",
    "\n",
    "# Initialize lists to hold collocations for each target across all tweets\n",
    "hillary_collocations = []\n",
    "bernie_collocations = []\n",
    "\n",
    "for doc in df['tokenised_text']:\n",
    "    tokens = [token.text for token in doc if not token.is_space]\n",
    "    hillary_collocations.extend(collocations_for_target(tokens, \"hillary\"))\n",
    "    bernie_collocations.extend(collocations_for_target(tokens, \"bernie\"))\n",
    "\n",
    "# Count the frequency of collocates\n",
    "hillary_freq = Counter(hillary_collocations)\n",
    "bernie_freq = Counter(bernie_collocations)\n",
    "\n",
    "# Display the 10 most common collocations for each target\n",
    "print(\"\\nTop 10 collocations for 'hillary':\")\n",
    "for word, count in hillary_freq.most_common(10):\n",
    "    print(f\"{word}: {count}\")\n",
    "\n",
    "print(\"\\nTop 10 collocations for 'bernie':\")\n",
    "for word, count in bernie_freq.most_common(10):\n",
    "    print(f\"{word}: {count}\")\n"
   ]
  },
  {
   "cell_type": "markdown",
   "id": "fe06996d-52e8-4bfd-9325-8f572a7cf997",
   "metadata": {},
   "source": [
    "### Part of Speech tagging and Named entity recognition"
   ]
  },
  {
   "cell_type": "markdown",
   "id": "5a8e2dae-5269-46eb-bc80-6a0ff5226d8e",
   "metadata": {},
   "source": [
    "For the next steps we need to tokenise the texts this means we break the text up to smaller parts to analyse it as data."
   ]
  },
  {
   "cell_type": "code",
   "execution_count": null,
   "id": "bee51c16-d89c-4fa2-87b1-8ffe8426dbd6",
   "metadata": {},
   "outputs": [],
   "source": [
    "# We can use dictionary comprehension to find all adjectives\n",
    "adjectives = [token.text.lower() for doc in df['tokenised_text'] for token in doc if token.pos_ == 'ADJ']\n",
    "\n",
    "# Get the 10 most common adjectives\n",
    "top_adjectives = Counter(adjectives).most_common(10) # then we can count all the adjectives \n",
    "print(top_adjectives)"
   ]
  },
  {
   "cell_type": "code",
   "execution_count": null,
   "id": "41e9d72c-b707-4f73-8162-f42d580011bb",
   "metadata": {},
   "outputs": [],
   "source": [
    "# Extract entities as tuples using comprehensions\n",
    "entities = [(ent.text, ent.label_) for doc in df['tokenised_text'] for ent in doc.ents]\n",
    "\n",
    "# Get the 10 most common entities\n",
    "top_entities = Counter(entities).most_common(10)\n",
    "print(\"Top 10 entities (text, label):\")\n",
    "for entity, count in top_entities:\n",
    "    print(entity, count)\n"
   ]
  },
  {
   "cell_type": "markdown",
   "id": "9cde0d7e-f761-4f64-b8e3-87ebc3951739",
   "metadata": {},
   "source": [
    "### Topic Modelling and Word Embedding"
   ]
  },
  {
   "cell_type": "code",
   "execution_count": null,
   "id": "83c7871a-2894-47f1-975f-975a4d9a4a5f",
   "metadata": {},
   "outputs": [],
   "source": [
    "# Convert each spaCy Doc into a list of tokens \n",
    "def unwrap_doc(doc):\n",
    "    return [token.lemma_.lower() for token in doc if not token.is_stop and not token.is_punct and not token.is_space]\n",
    "\n",
    "# Apply the unwrapping function to each tweet\n",
    "texts_from_doc = df['tokenised_text'].apply(unwrap_doc).tolist()\n",
    "\n",
    "# Now create the gensim dictionary and corpus\n",
    "dictionary = corpora.Dictionary(texts_from_doc)\n",
    "corpus = [dictionary.doc2bow(text) for text in texts_from_doc]\n"
   ]
  },
  {
   "cell_type": "code",
   "execution_count": null,
   "id": "401d9c71-5eaf-4dc5-b53c-ffe337b440a9",
   "metadata": {},
   "outputs": [],
   "source": [
    "num_topics = 10  # as an example, you can adjust based on your needs\n",
    "lda_model = gensim.models.LdaModel(corpus=corpus,\n",
    "                                   id2word=dictionary,\n",
    "                                   num_topics=num_topics,\n",
    "                                   random_state=42,\n",
    "                                   passes=10)\n",
    "\n",
    "# Print the topics after running the model -- Note that this may take a long time!\n",
    "for idx, topic in lda_model.print_topics(-1):\n",
    "    print(f\"Topic {idx}: {topic}\")\n"
   ]
  },
  {
   "cell_type": "code",
   "execution_count": null,
   "id": "4000f7d3-7402-48bb-a17e-7d3a2a61d942",
   "metadata": {},
   "outputs": [],
   "source": [
    "vis = gensimvis.prepare(lda_model, corpus, dictionary)\n",
    "pyLDAvis.display(vis)\n",
    "\n",
    "# Note that the plots are labeled PC1 and PC2 for principal component one and two \n",
    "# This is a mapping from the multidimensional vector space via principal component analysis, that is selecting the hyperplanes that best seperate the data"
   ]
  },
  {
   "cell_type": "markdown",
   "id": "4672721e-4cb7-462d-8597-25edb3809271",
   "metadata": {},
   "source": [
    "### Sentiment analysis"
   ]
  },
  {
   "cell_type": "code",
   "execution_count": 5,
   "id": "f65be778-f865-4167-a3f4-52b7516b3a1a",
   "metadata": {},
   "outputs": [
    {
     "data": {
      "image/png": "[encoded data removed]",
      "text/plain": [
       "<Figure size 640x480 with 1 Axes>"
      ]
     },
     "metadata": {},
     "output_type": "display_data"
    }
   ],
   "source": [
    "analyzer = SentimentIntensityAnalyzer() # load the function\n",
    "\n",
    "def get_sentiment(text):\n",
    "    scores = analyzer.polarity_scores(text)\n",
    "    return scores  # this returns a dict with 'neg', 'neu', 'pos', and 'compound'\n",
    "\n",
    "df['sentiment'] = df['text'].apply(get_sentiment) # again we use apply to run through the whole \n",
    "# For example, extract the compound score\n",
    "df['compound'] = df['sentiment'].apply(lambda x: x['compound'])\n",
    "\n",
    "# Plot weekly average sentiment over time\n",
    "weekly_sentiment = df['compound'].resample('W').mean()\n",
    "plt.plot(weekly_sentiment.index, weekly_sentiment.values)\n",
    "plt.xlabel(\"Date\")\n",
    "plt.ylabel(\"Average Compound Sentiment\")\n",
    "plt.title(\"Weekly Average Sentiment of Trump's Tweets (VADER)\")\n",
    "plt.show()\n"
   ]
  }
 ],
 "metadata": {
  "kernelspec": {
   "display_name": "Python 3 (ipykernel)",
   "language": "python",
   "name": "python3"
  },
  "language_info": {
   "codemirror_mode": {
    "name": "ipython",
    "version": 3
   },
   "file_extension": ".py",
   "mimetype": "text/x-python",
   "name": "python",
   "nbconvert_exporter": "python",
   "pygments_lexer": "ipython3",
   "version": "3.12.6"
  }
 },
 "nbformat": 4,
 "nbformat_minor": 5
}
